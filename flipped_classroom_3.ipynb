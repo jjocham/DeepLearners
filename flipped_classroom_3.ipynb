{
  "nbformat": 4,
  "nbformat_minor": 0,
  "metadata": {
    "colab": {
      "provenance": [],
      "gpuType": "T4",
      "include_colab_link": true
    },
    "kernelspec": {
      "name": "python3",
      "display_name": "Python 3"
    },
    "language_info": {
      "name": "python"
    },
    "accelerator": "GPU"
  },
  "cells": [
    {
      "cell_type": "markdown",
      "metadata": {
        "id": "view-in-github",
        "colab_type": "text"
      },
      "source": [
        "<a href=\"https://colab.research.google.com/github/jjocham/DeepLearners/blob/main/flipped_classroom_3.ipynb\" target=\"_parent\"><img src=\"https://colab.research.google.com/assets/colab-badge.svg\" alt=\"Open In Colab\"/></a>"
      ]
    },
    {
      "cell_type": "code",
      "execution_count": null,
      "metadata": {
        "id": "GVBPjh6w3UTn"
      },
      "outputs": [],
      "source": [
        "# Data Prep\n",
        "import tensorflow as tf\n",
        "import tensorflow_datasets as tfds\n",
        "(train_ds, test_ds), ds_info = tfds.load('mnist', split=['train','test'], as_supervised=True, with_info=True)\n",
        "\n",
        "def prepare_mnist_data(mnist):\n",
        "  \"\"\"\n",
        "    data preprocessing pipeline,\n",
        "    converts data points into float32, reshapes the images, normalizes the values on a range from [-1,1],\n",
        "    translates targets into one-hot targets,\n",
        "    caches the progress and shuffles before it batches the data and prefetches the batches\n",
        "    input: TensorFlow dataset to preprocess\n",
        "    returns: preprocessed dataset\n",
        "\n",
        "  \"\"\"\n",
        "  #convert data from uint8 to float32\n",
        "  mnist = mnist.map(lambda img, target: (tf.cast(img, tf.float32), target))\n",
        "  #flatten the images into vectors\n",
        "  mnist = mnist.map(lambda img, target: (tf.reshape(img, (-1,)), target))\n",
        "  #input normalization, just bringing image values from range [0, 255] to [-1, 1]\n",
        "  mnist = mnist.map(lambda img, target: ((img/128.)-1., target))\n",
        "  #create one-hot targets\n",
        "  mnist = mnist.map(lambda img, target: (img, tf.one_hot(target, depth=10)))\n",
        "  #cache this progress in memory, as there is no need to redo it; it is deterministic after all\n",
        "  mnist = mnist.cache()\n",
        "  #shuffle, batch, prefetch\n",
        "  mnist = mnist.shuffle(1000)\n",
        "  mnist = mnist.batch(32)\n",
        "  mnist = mnist.prefetch(20)\n",
        "  #return preprocessed dataset\n",
        "  return mnist\n",
        "\n",
        "train_dataset = train_ds.apply(prepare_mnist_data)\n",
        "test_dataset = test_ds.apply(prepare_mnist_data)"
      ]
    },
    {
      "cell_type": "code",
      "source": [
        "# Model Creation via Subclassing from tf.keras.Model\n",
        "class MLP_Model(tf.keras.Model):\n",
        "    \"\"\"\n",
        "      creates a MLP_Model object that inherets its properties from its parent class tf.keras.Model\n",
        "      It instantiates the specified # Dense layers with the specified # of units and activation function.\n",
        "      Allows different # units and activation function in output layer\n",
        "      returns: predictions of last layer in the ANN\n",
        "    \"\"\"\n",
        "    def __init__(self, layer_sizes, output_size=10):\n",
        "      super(MLP_Model, self).__init__()\n",
        "      self.mlp_layers = []\n",
        "      # layer_sizes e.g. [256, 256]\n",
        "      for layer_size in layer_sizes:\n",
        "        new_layer = tf.keras.layers.Dense(units=layer_size, activation='sigmoid')\n",
        "        self.layers.append(new_layer)\n",
        "      self.output_layer = tf.keras.layers.Dense(units=output_size, activation='softmax')\n",
        "\n",
        "    @tf.function\n",
        "    def call(self, x):\n",
        "      for layer in self.mlp_layers:\n",
        "        x = layer(x)\n",
        "      y = self.output_layer(x)\n",
        "      return y"
      ],
      "metadata": {
        "id": "L5hv9xnS5s_-"
      },
      "execution_count": null,
      "outputs": []
    },
    {
      "cell_type": "code",
      "source": [
        "def train_step(model, input, target, loss_function, optimizer):\n",
        "  \"\"\"\n",
        "    performs training step on the model and updates loss and accuracy metrics\n",
        "    Args:\n",
        "          model - MLP_Model object\n",
        "          input - batch of flattened images\n",
        "          target - batch of one-hot target predicitons\n",
        "          loss_function - type of loss function\n",
        "          optimizer - type of optimizer\n",
        "    returns:\n",
        "          loss - updated loss for current subset\n",
        "          accuracy - updated accuracy for current subset\n",
        "  \"\"\"\n",
        "  # loss_object and optimizer_object are instances of respective tensorflow classes\n",
        "  with tf.GradientTape() as tape:\n",
        "    prediction = model(input)\n",
        "    loss = loss_function(target, prediction)\n",
        "  gradients = tape.gradient(loss, model.trainable_variables)\n",
        "  optimizer.apply_gradients(zip(gradients, model.trainable_variables))\n",
        "  return loss\n",
        "\n",
        "# Probably shouldnt be called \"test_data\" as arg, because can also be used on training data\n",
        "# alternatively something like \"data\" & \"loss\" & \"accuracy\" would probably be better\n",
        "def test(model, test_data, loss_function):\n",
        "  # test over complete test data\n",
        "\n",
        "  test_accuracy_aggregator = []\n",
        "  test_loss_aggregator = []\n",
        "\n",
        "  for (input, target) in test_data:\n",
        "    prediction = model(input)\n",
        "    sample_test_loss = loss_function(target, prediction)\n",
        "    sample_test_accuracy =  np.argmax(target, axis=1) == np.argmax(prediction, axis=1)\n",
        "    sample_test_accuracy = np.mean(sample_test_accuracy)\n",
        "    test_loss_aggregator.append(sample_test_loss.numpy())\n",
        "    test_accuracy_aggregator.append(np.mean(sample_test_accuracy))\n",
        "\n",
        "  test_loss = tf.reduce_mean(test_loss_aggregator)\n",
        "  test_accuracy = tf.reduce_mean(test_accuracy_aggregator)\n",
        "\n",
        "  return test_loss, test_accuracy"
      ],
      "metadata": {
        "id": "JAuoDxRaeyG7"
      },
      "execution_count": null,
      "outputs": []
    },
    {
      "cell_type": "code",
      "source": [
        "def full_training_loop(num_epochs, model, ds_train, ds_test, loss_function, optimizer, train_losses, train_accuracies, test_losses, test_accuracies):\n",
        "    # We train for num_epochs epochs.\n",
        "    for epoch in range(num_epochs):\n",
        "        print(f'Epoch: {str(epoch)} starting with accuracy {test_accuracies[-1]}')\n",
        "\n",
        "        #training (and checking in with training)\n",
        "        epoch_loss_agg = []\n",
        "        for input,target in ds_train:\n",
        "            train_loss = train_step(model, input, target, loss_function, optimizer)\n",
        "            epoch_loss_agg.append(train_loss)\n",
        "\n",
        "        #track training loss\n",
        "        train_loss, train_accuracy = test(model, train_dataset, cce_loss)\n",
        "        train_losses.append(train_loss)\n",
        "        train_accuracies.append(train_accuracy)\n",
        "\n",
        "\n",
        "        #testing, so we can track accuracy and test loss\n",
        "        test_loss, test_accuracy = test(model, ds_test, loss_function)\n",
        "        test_losses.append(test_loss)\n",
        "        test_accuracies.append(test_accuracy)\n",
        "\n",
        "    return train_losses, test_losses, test_accuracies, train_accuracies"
      ],
      "metadata": {
        "id": "_EFe4leefFdG"
      },
      "execution_count": null,
      "outputs": []
    },
    {
      "cell_type": "code",
      "source": [
        "class hyperparameter_tracking():\n",
        "    def __init__(epochs, lr, layer_sizes, momentum=None):\n",
        "        self.\n",
        "def epochal_routine(epochs, lr, layer_sizes):\n",
        "    ### Hyperparameters\n",
        "    EPOCHS = epochs\n",
        "    learning_rate = lr\n",
        "    images_dir = '/usr/lib/file'\n",
        "\n",
        "\n",
        "\n",
        "    # Initialize the model.\n",
        "    model = MLP_Model(layer_sizes)\n",
        "    # Initialize the loss: categorical cross entropy.\n",
        "    cce_loss = tf.keras.losses.CategoricalCrossentropy()\n",
        "    # Initialize the optimizer: SGD with default parameters.\n",
        "    optimizer = tf.keras.optimizers.SGD(learning_rate)\n",
        "    # Data\n",
        "    train_dataset = train_dataset\n",
        "    test_dataset = test_dataset\n",
        "\n",
        "    # Initialize lists for later visualization.\n",
        "    train_accuracies = []\n",
        "    train_losses = []\n",
        "    test_losses = []\n",
        "    test_accuracies = []\n",
        "\n",
        "    #testing once before we begin\n",
        "    test_loss, test_accuracy = test(model, test_dataset, cce_loss)\n",
        "    test_losses.append(test_loss)\n",
        "    test_accuracies.append(test_accuracy)\n",
        "\n",
        "    #check how model performs on train data once before we begin\n",
        "    train_loss, train_accuracies = test(model, train_dataset, cce_loss)\n",
        "    train_losses.append(train_loss)\n",
        "\n",
        "    train_losses, test_losses, test_accuracies = full_training_loop(EPOCHS, model, train_dataset, test_dataset, cce_loss, optimizer, train_losses, train_accuracies, test_losses, test_accuracies)"
      ],
      "metadata": {
        "id": "blj1YvVfeRaR"
      },
      "execution_count": null,
      "outputs": []
    },
    {
      "cell_type": "code",
      "source": [
        "import numpy as np\n",
        "tf.keras.backend.clear_session()\n",
        "\n",
        "### Hyperparameters\n",
        "EPOCHS = 10\n",
        "learning_rate = 0.01\n",
        "layer_size = [256, 256]\n",
        "# images_dir = '/usr/lib/file'\n",
        "\n",
        "\n",
        "\n",
        "# Initialize the model.\n",
        "model = MLP_Model(layer_size)\n",
        "# Initialize the loss: categorical cross entropy.\n",
        "cce_loss = tf.keras.losses.CategoricalCrossentropy()\n",
        "# Initialize the optimizer: SGD with default parameters.\n",
        "optimizer = tf.keras.optimizers.SGD(learning_rate)\n",
        "# Data\n",
        "train_dataset = train_dataset\n",
        "test_dataset = test_dataset\n",
        "\n",
        "# Initialize lists for later visualization.\n",
        "train_accuracies = []\n",
        "train_losses = []\n",
        "test_losses = []\n",
        "test_accuracies = []\n",
        "\n",
        "#testing once before we begin\n",
        "test_loss, test_accuracy = test(model, test_dataset, cce_loss)\n",
        "test_losses.append(test_loss)\n",
        "test_accuracies.append(test_accuracy)\n",
        "\n",
        "#check how model performs on train data once before we begin\n",
        "train_loss, train_accuracy = test(model, train_dataset, cce_loss)\n",
        "train_losses.append(train_loss)\n",
        "train_accuracies.append(train_accuracy)\n",
        "\n",
        "\n",
        "train_losses, test_losses, test_accuracies, train_accuracies = full_training_loop(EPOCHS, model, train_dataset, test_dataset, cce_loss, optimizer, train_losses, train_accuracies, test_losses, test_accuracies)\n"
      ],
      "metadata": {
        "colab": {
          "base_uri": "https://localhost:8080/"
        },
        "id": "VZGOEXu0Msok",
        "outputId": "88070d51-db21-42ac-856b-cae9388fe003"
      },
      "execution_count": null,
      "outputs": [
        {
          "output_type": "stream",
          "name": "stdout",
          "text": [
            "Epoch: 0 starting with accuracy 0.150758785942492\n",
            "Epoch: 1 starting with accuracy 0.9014576677316294\n",
            "Epoch: 2 starting with accuracy 0.9087460063897763\n",
            "Epoch: 3 starting with accuracy 0.9144369009584664\n",
            "Epoch: 4 starting with accuracy 0.9169329073482428\n",
            "Epoch: 5 starting with accuracy 0.9175319488817891\n",
            "Epoch: 6 starting with accuracy 0.9206269968051118\n",
            "Epoch: 7 starting with accuracy 0.9187300319488818\n",
            "Epoch: 8 starting with accuracy 0.919129392971246\n",
            "Epoch: 9 starting with accuracy 0.9168330670926518\n"
          ]
        }
      ]
    },
    {
      "cell_type": "code",
      "source": [
        "# VISUALIZATION\n",
        "import matplotlib.pyplot as plt\n",
        "\n",
        "def viz_save(train_losses, test_losses, test_accuracies, train_accuracies):\n",
        "    # Visualize accuracy and loss for training and test data.\n",
        "    plt.figure()\n",
        "    line1, = plt.plot(train_losses)\n",
        "    line2, = plt.plot(test_losses)\n",
        "    line3, = plt.plot(test_accuracies)\n",
        "    line4, = plt.plot(train_accuracies)\n",
        "    tf.print(\"train accuracies\",train_accuracies)\n",
        "    tf.print(\"test accuracies\",test_accuracies)\n",
        "    tf.print(\"train loss\", train_losses)\n",
        "    tf.print(\"test loss\", test_losses)\n",
        "    plt.xlabel(\"Training steps\")\n",
        "    plt.ylabel(\"Loss/Accuracy\")\n",
        "    plt.legend((line1,line2, line3, line4),(\"training\",\"test\", \"test accuracy\", \"train_accuracy\"))\n",
        "    plt.show()\n",
        "    # plt.savefig(f\"{self.images_dir}/{self.epochs}, {self.learning_rate}, {self.layer_sizes}.png\")"
      ],
      "metadata": {
        "id": "caejwqGZh45R"
      },
      "execution_count": null,
      "outputs": []
    },
    {
      "cell_type": "code",
      "source": [
        "viz_save(train_losses, test_losses, test_accuracies, train_accuracies)"
      ],
      "metadata": {
        "colab": {
          "base_uri": "https://localhost:8080/",
          "height": 540
        },
        "id": "UnxAbb8GPcVD",
        "outputId": "97b36979-7d26-492d-d707-8d087aac64eb"
      },
      "execution_count": null,
      "outputs": [
        {
          "output_type": "stream",
          "name": "stdout",
          "text": [
            "train accuracies [0.14408333333333334, 0.89636666666666664, 0.90346666666666664, 0.91036666666666666, 0.91383333333333339, 0.91538333333333333, 0.91751666666666665, 0.91883333333333328, 0.9192, 0.91773333333333329, 0.91731666666666667]\n",
            "test accuracies [0.150758785942492, 0.90145766773162939, 0.90874600638977632, 0.91443690095846641, 0.91693290734824284, 0.91753194888178913, 0.92062699680511184, 0.91873003194888181, 0.919129392971246, 0.91683306709265178, 0.91743210862619806]\n",
            "train loss [2.51470661, 0.369074315, 0.335282326, 0.314099193, 0.30502519, 0.297255218, 0.291961133, 0.286987096, 0.285028696, 0.287307352, 0.285215229]\n",
            "test loss [2.49731731, 0.353594631, 0.321084201, 0.306561202, 0.300682932, 0.293196023, 0.290219218, 0.286300749, 0.285530627, 0.289703399, 0.286253631]\n"
          ]
        },
        {
          "output_type": "display_data",
          "data": {
            "text/plain": [
              "<Figure size 640x480 with 1 Axes>"
            ],
            "image/png": "[encoded data removed]"
          },
          "metadata": {}
        }
      ]
    }
  ]
}